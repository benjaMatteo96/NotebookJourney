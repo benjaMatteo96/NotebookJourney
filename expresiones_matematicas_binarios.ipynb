{
  "nbformat": 4,
  "nbformat_minor": 0,
  "metadata": {
    "colab": {
      "provenance": [],
      "authorship_tag": "ABX9TyN7umO7WAZ/oCLiBIML2Feo",
      "include_colab_link": true
    },
    "kernelspec": {
      "name": "python3",
      "display_name": "Python 3"
    },
    "language_info": {
      "name": "python"
    }
  },
  "cells": [
    {
      "cell_type": "markdown",
      "metadata": {
        "id": "view-in-github",
        "colab_type": "text"
      },
      "source": [
        "<a href=\"https://colab.research.google.com/github/benjaMatteo96/NotebookJourney/blob/main/expresiones_matematicas_binarios.ipynb\" target=\"_parent\"><img src=\"https://colab.research.google.com/assets/colab-badge.svg\" alt=\"Open In Colab\"/></a>"
      ]
    },
    {
      "cell_type": "code",
      "execution_count": 1,
      "metadata": {
        "colab": {
          "base_uri": "https://localhost:8080/"
        },
        "id": "HE67AfirUeBs",
        "outputId": "0f40772e-d617-4a79-e30f-f01ace9478aa"
      },
      "outputs": [
        {
          "output_type": "stream",
          "name": "stdout",
          "text": [
            "30000000000.0\n"
          ]
        }
      ],
      "source": [
        "print(3e10)"
      ]
    },
    {
      "cell_type": "code",
      "source": [
        "print(3_000_000)"
      ],
      "metadata": {
        "colab": {
          "base_uri": "https://localhost:8080/"
        },
        "id": "wS_Vdq29UrdF",
        "outputId": "f0604d34-8241-4dd2-d97f-fba66f53879c"
      },
      "execution_count": 2,
      "outputs": [
        {
          "output_type": "stream",
          "name": "stdout",
          "text": [
            "3000000\n"
          ]
        }
      ]
    },
    {
      "cell_type": "code",
      "source": [
        "print(1.024e+19)"
      ],
      "metadata": {
        "colab": {
          "base_uri": "https://localhost:8080/"
        },
        "id": "aQ0CoACcXGzl",
        "outputId": "42e5337c-80b5-4692-8d01-0743a545c8ee"
      },
      "execution_count": 4,
      "outputs": [
        {
          "output_type": "stream",
          "name": "stdout",
          "text": [
            "1.024e+19\n"
          ]
        }
      ]
    },
    {
      "cell_type": "code",
      "source": [
        "def max_players_on_server():\n",
        "    small_server = 1.024e18\n",
        "    print(f\"small server: {small_server}\")\n",
        "\n",
        "    medium_server = 10.240e18\n",
        "    print(f\"medium server: {medium_server}\")\n",
        "\n",
        "    large_server = 102.400e18\n",
        "    print(f\"large server: {large_server}\")\n",
        "\n",
        "    return(small_server,medium_server,large_server)\n",
        "max_players_on_server()"
      ],
      "metadata": {
        "colab": {
          "base_uri": "https://localhost:8080/"
        },
        "id": "MIPSS3jtWIIU",
        "outputId": "4c26f80c-748c-4efb-af64-127441c70daa"
      },
      "execution_count": 3,
      "outputs": [
        {
          "output_type": "stream",
          "name": "stdout",
          "text": [
            "small server: 1.024e+18\n",
            "medium server: 1.024e+19\n",
            "large server: 1.024e+20\n"
          ]
        },
        {
          "output_type": "execute_result",
          "data": {
            "text/plain": [
              "(1.024e+18, 1.024e+19, 1.024e+20)"
            ]
          },
          "metadata": {},
          "execution_count": 3
        }
      ]
    },
    {
      "cell_type": "code",
      "source": [
        "print(0b1100)\n",
        "print(0b11111)"
      ],
      "metadata": {
        "colab": {
          "base_uri": "https://localhost:8080/"
        },
        "id": "Vz8BEvFWkeiS",
        "outputId": "21fab425-3354-4d2e-b9db-c77b520a746c"
      },
      "execution_count": 6,
      "outputs": [
        {
          "output_type": "stream",
          "name": "stdout",
          "text": [
            "12\n",
            "31\n"
          ]
        }
      ]
    },
    {
      "cell_type": "code",
      "source": [
        "\n",
        "binary3 = 0b11011\n",
        "binary4 = 0b10011\n",
        "print(binary3 & binary4)\n"
      ],
      "metadata": {
        "colab": {
          "base_uri": "https://localhost:8080/"
        },
        "id": "G4Ok43mAq7Fu",
        "outputId": "de2a0d29-e91f-472f-8c15-0ac8c78f0ef1"
      },
      "execution_count": 10,
      "outputs": [
        {
          "output_type": "stream",
          "name": "stdout",
          "text": [
            "19\n"
          ]
        }
      ]
    }
  ]
}