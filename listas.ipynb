{
  "nbformat": 4,
  "nbformat_minor": 0,
  "metadata": {
    "colab": {
      "provenance": [],
      "authorship_tag": "ABX9TyPJji+zXZ9JE4taHTKIPnYi",
      "include_colab_link": true
    },
    "kernelspec": {
      "name": "python3",
      "display_name": "Python 3"
    },
    "language_info": {
      "name": "python"
    }
  },
  "cells": [
    {
      "cell_type": "markdown",
      "metadata": {
        "id": "view-in-github",
        "colab_type": "text"
      },
      "source": [
        "<a href=\"https://colab.research.google.com/github/benjaMatteo96/NotebookJourney/blob/main/listas.ipynb\" target=\"_parent\"><img src=\"https://colab.research.google.com/assets/colab-badge.svg\" alt=\"Open In Colab\"/></a>"
      ]
    },
    {
      "cell_type": "code",
      "source": [
        "sports = [\"basket\",\"soccer\",\"tenis\",\"bricket\",\"baseball\"]"
      ],
      "metadata": {
        "id": "DsfrMMlfeWep"
      },
      "execution_count": 2,
      "outputs": []
    },
    {
      "cell_type": "code",
      "execution_count": 10,
      "metadata": {
        "colab": {
          "base_uri": "https://localhost:8080/"
        },
        "id": "mSZ-aCS3eTz4",
        "outputId": "24d7a5e6-dce2-45ee-f738-4e245356cf28"
      },
      "outputs": [
        {
          "output_type": "stream",
          "name": "stdout",
          "text": [
            "basket\n",
            "soccer\n",
            "tenis\n",
            "bricket\n",
            "baseball\n"
          ]
        }
      ],
      "source": [
        "for i in range(0, len(sports)):\n",
        "    print(sports[i])"
      ]
    }
  ]
}