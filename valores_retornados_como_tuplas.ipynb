{
  "nbformat": 4,
  "nbformat_minor": 0,
  "metadata": {
    "colab": {
      "provenance": [],
      "authorship_tag": "ABX9TyNEmsUmXRk9zUP3V9B77Mrl",
      "include_colab_link": true
    },
    "kernelspec": {
      "name": "python3",
      "display_name": "Python 3"
    },
    "language_info": {
      "name": "python"
    }
  },
  "cells": [
    {
      "cell_type": "markdown",
      "metadata": {
        "id": "view-in-github",
        "colab_type": "text"
      },
      "source": [
        "<a href=\"https://colab.research.google.com/github/benjaMatteo96/NotebookJourney/blob/main/valores_retornados_como_tuplas.ipynb\" target=\"_parent\"><img src=\"https://colab.research.google.com/assets/colab-badge.svg\" alt=\"Open In Colab\"/></a>"
      ]
    },
    {
      "cell_type": "code",
      "source": [
        "def calculate_damage(sword, arrow, spear, dagger, fireball):\n",
        "    total_damage = sword+arrow+spear+dagger+fireball\n",
        "    average_damage = (sword+arrow+spear+dagger+fireball) / 5\n",
        "    return total_damage, average_damage"
      ],
      "metadata": {
        "id": "UU-xjhXz_85j"
      },
      "execution_count": null,
      "outputs": []
    },
    {
      "cell_type": "code",
      "execution_count": null,
      "metadata": {
        "id": "lBF7OkWYHedw",
        "colab": {
          "base_uri": "https://localhost:8080/"
        },
        "outputId": "f67beacf-5d17-4e46-cb85-50c2bb6407ba"
      },
      "outputs": [
        {
          "output_type": "stream",
          "name": "stdout",
          "text": [
            "Esto es test_case: (3, 5, 2, 1, 4, (15, 3.0))\n",
            "---------------------------------\n",
            "Inputs: 3, 5, 2, 1, 4\n",
            "Expecting: (15, 3.0)\n",
            "Actual: (15, 3.0)\n",
            "Pass\n",
            "Esto es correct:True\n",
            "Esto es test_case: (5, 5, 5, 5, 5, (25, 5.0))\n",
            "---------------------------------\n",
            "Inputs: 5, 5, 5, 5, 5\n",
            "Expecting: (25, 5.0)\n",
            "Actual: (25, 5.0)\n",
            "Pass\n",
            "Esto es correct:True\n",
            "Esto es test_case: (1, 2, 3, 4, 5, (15, 3.0))\n",
            "---------------------------------\n",
            "Inputs: 1, 2, 3, 4, 5\n",
            "Expecting: (15, 3.0)\n",
            "Actual: (15, 3.0)\n",
            "Pass\n",
            "Esto es correct:True\n",
            "Esto es test_case: (0, 0, 0, 0, 10, (10, 2.0))\n",
            "---------------------------------\n",
            "Inputs: 0, 0, 0, 0, 10\n",
            "Expecting: (10, 2.0)\n",
            "Actual: (10, 2.0)\n",
            "Pass\n",
            "Esto es correct:True\n",
            "Esto es test_case: (0, 0, 0, 0, 0, (0, 0.0))\n",
            "---------------------------------\n",
            "Inputs: 0, 0, 0, 0, 0\n",
            "Expecting: (0, 0.0)\n",
            "Actual: (0, 0.0)\n",
            "Pass\n",
            "Esto es correct:True\n",
            "Esto es test_case: (10, 20, 30, 40, 50, (150, 30.0))\n",
            "---------------------------------\n",
            "Inputs: 10, 20, 30, 40, 50\n",
            "Expecting: (150, 30.0)\n",
            "Actual: (150, 30.0)\n",
            "Pass\n",
            "Esto es correct:True\n",
            "Esto es test_case: (2, 2, 2, 2, 2, (10, 2.0))\n",
            "---------------------------------\n",
            "Inputs: 2, 2, 2, 2, 2\n",
            "Expecting: (10, 2.0)\n",
            "Actual: (10, 2.0)\n",
            "Pass\n",
            "Esto es correct:True\n",
            "Esto es test_case: (1, 1, 1, 1, 1, (5, 1.0))\n",
            "---------------------------------\n",
            "Inputs: 1, 1, 1, 1, 1\n",
            "Expecting: (5, 1.0)\n",
            "Actual: (5, 1.0)\n",
            "Pass\n",
            "Esto es correct:True\n",
            "============= PASS ==============\n",
            "8 passed, 0 failed\n"
          ]
        }
      ],
      "source": [
        "run_cases = [\n",
        "    (3, 5, 2, 1, 4, (15, 3.0)),\n",
        "    (5, 5, 5, 5, 5, (25, 5.0)),\n",
        "]\n",
        "\n",
        "submit_cases = run_cases + [\n",
        "    (1, 2, 3, 4, 5, (15, 3.0)),\n",
        "    (0, 0, 0, 0, 10, (10, 2.0)),\n",
        "    (0, 0, 0, 0, 0, (0, 0.0)),\n",
        "    (10, 20, 30, 40, 50, (150, 30.0)),\n",
        "    (2, 2, 2, 2, 2, (10, 2.0)),\n",
        "    (1, 1, 1, 1, 1, (5, 1.0)),\n",
        "]\n",
        "\n",
        "\n",
        "def test(sword, arrow, spear, dagger, fireball, expected_output):\n",
        "    print(\"---------------------------------\")\n",
        "    print(f\"Inputs: {sword}, {arrow}, {spear}, {dagger}, {fireball}\")\n",
        "    print(f\"Expecting: {expected_output}\")\n",
        "    result = calculate_damage(sword, arrow, spear, dagger, fireball)\n",
        "    print(f\"Actual: {result}\")\n",
        "    if result == expected_output:\n",
        "        print(\"Pass\")\n",
        "        return True\n",
        "    print(\"Fail\")\n",
        "    return False\n",
        "\n",
        "\n",
        "def main():\n",
        "    passed = 0\n",
        "    failed = 0\n",
        "    for test_case in test_cases:\n",
        "        print(f\"Esto es test_case: {test_case}\")\n",
        "        correct = test(*test_case)\n",
        "        print(f\"Esto es correct:{correct}\")\n",
        "        if correct:\n",
        "            passed += 1\n",
        "        else:\n",
        "            failed += 1\n",
        "    if failed == 0:\n",
        "        print(\"============= PASS ==============\")\n",
        "    else:\n",
        "        print(\"============= FAIL ==============\")\n",
        "    print(f\"{passed} passed, {failed} failed\")\n",
        "\n",
        "\n",
        "test_cases = submit_cases\n",
        "if \"__RUN__\" in globals():\n",
        "    test_cases = run_cases\n",
        "\n",
        "main()"
      ]
    }
  ]
}